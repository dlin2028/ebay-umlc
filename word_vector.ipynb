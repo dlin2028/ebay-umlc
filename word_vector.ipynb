{
 "cells": [
  {
   "cell_type": "code",
   "execution_count": 2,
   "id": "a88b9fac",
   "metadata": {},
   "outputs": [],
   "source": [
    "import os\n",
    "from gensim.models.word2vec import Word2Vec\n",
    "from gensim.models.keyedvectors import KeyedVectors\n",
    "import multiprocessing\n",
    "import gzip\n",
    "import pandas as pd\n",
    "import csv\n",
    "import string\n",
    "from gensim.models.phrases import Phrases, Phraser\n",
    "from collections import defaultdict"
   ]
  },
  {
   "cell_type": "code",
   "execution_count": 3,
   "id": "bc4f3111",
   "metadata": {},
   "outputs": [],
   "source": [
    "listing_titles = pd.read_csv('./dataset/Listing_Titles.tsv', sep='\\t', on_bad_lines='skip', quoting=csv.QUOTE_NONE, encoding='utf8')"
   ]
  },
  {
   "cell_type": "code",
   "execution_count": 4,
   "id": "f1295c4c",
   "metadata": {},
   "outputs": [],
   "source": [
    "corpus = listing_titles['Title'].to_list()\n",
    "corpus = [item.translate(str.maketrans('', '', string.punctuation)) for item in corpus]\n",
    "model_name = \"word_vecs\""
   ]
  },
  {
   "cell_type": "code",
   "execution_count": 5,
   "id": "738e94ff",
   "metadata": {},
   "outputs": [
    {
     "name": "stdout",
     "output_type": "stream",
     "text": [
      "19999921\n",
      "Made Phrases\n"
     ]
    }
   ],
   "source": [
    "print (len(corpus))\n",
    "\n",
    "\n",
    "phrases = Phrases(corpus, min_count=30, progress_per=10000)\n",
    "print (\"Made Phrases\")"
   ]
  },
  {
   "cell_type": "code",
   "execution_count": 6,
   "id": "56b8555c",
   "metadata": {},
   "outputs": [
    {
     "name": "stdout",
     "output_type": "stream",
     "text": [
      "Made Bigrams\n"
     ]
    }
   ],
   "source": [
    "bigram = Phraser(phrases)\n",
    "print (\"Made Bigrams\")"
   ]
  },
  {
   "cell_type": "code",
   "execution_count": 7,
   "id": "b7f29030",
   "metadata": {},
   "outputs": [
    {
     "name": "stdout",
     "output_type": "stream",
     "text": [
      "Found sentences\n",
      "2499\n"
     ]
    }
   ],
   "source": [
    "sentences = phrases[corpus]\n",
    "print (\"Found sentences\")\n",
    "word_freq = defaultdict(int)\n",
    "\n",
    "for sent in sentences:\n",
    "    for i in sent:\n",
    "        word_freq[i]+=1\n",
    "\n",
    "print (len(word_freq))\n"
   ]
  },
  {
   "cell_type": "code",
   "execution_count": 8,
   "id": "6e479bd3",
   "metadata": {},
   "outputs": [
    {
     "name": "stdout",
     "output_type": "stream",
     "text": [
      "Training model now...\n"
     ]
    },
    {
     "ename": "",
     "evalue": "",
     "output_type": "error",
     "traceback": [
      "\u001b[1;31mThe Kernel crashed while executing code in the the current cell or a previous cell. Please review the code in the cell(s) to identify a possible cause of the failure. Click <a href='https://aka.ms/vscodeJupyterKernelCrash'>here</a> for more info. View Jupyter <a href='command:jupyter.viewOutput'>log</a> for further details."
     ]
    }
   ],
   "source": [
    "print (\"Training model now...\")\n",
    "w2v_model = Word2Vec(min_count=20,\n",
    "                    window=2.1,\n",
    "                    sample=6e-5,\n",
    "                    alpha=0.03,\n",
    "                    min_alpha=0.0007,\n",
    "                    negative=20,\n",
    "                    workers=8\n",
    "                    )\n",
    "w2v_model.build_vocab(sentences, progress_per=10000)\n",
    "w2v_model.train(sentences, total_examples=w2v_model.corpus_count, epochs=30, report_delay=1)\n",
    "os.makedirs(\"./trainset\", exist_ok=True)\n",
    "w2v_model.wv.save_word2vec_format(f\"trainset/{model_name}.txt\")"
   ]
  },
  {
   "cell_type": "code",
   "execution_count": null,
   "id": "e154c40c",
   "metadata": {},
   "outputs": [],
   "source": [
    "!./train.sh"
   ]
  }
 ],
 "metadata": {
  "kernelspec": {
   "display_name": "Python 3.10.4 ('poopy')",
   "language": "python",
   "name": "python3"
  },
  "language_info": {
   "codemirror_mode": {
    "name": "ipython",
    "version": 3
   },
   "file_extension": ".py",
   "mimetype": "text/x-python",
   "name": "python",
   "nbconvert_exporter": "python",
   "pygments_lexer": "ipython3",
   "version": "3.10.4"
  },
  "vscode": {
   "interpreter": {
    "hash": "fafa401562e10296abee49c60845fc6c7bab56f8651426050e4a3d10593a4d2c"
   }
  }
 },
 "nbformat": 4,
 "nbformat_minor": 5
}
