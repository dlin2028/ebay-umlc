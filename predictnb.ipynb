{
 "cells": [
  {
   "cell_type": "code",
   "execution_count": 9,
   "id": "051ced2a",
   "metadata": {},
   "outputs": [],
   "source": [
    "from cgitb import text\n",
    "import spacy\n",
    "import csv\n",
    "import pandas as pd\n",
    "import numpy as np\n",
    "from tqdm import tqdm\n",
    "from spacy.tokens import DocBin\n",
    "from multiprocessing import Process, freeze_support, set_start_method"
   ]
  },
  {
   "cell_type": "code",
   "execution_count": 13,
   "id": "a2cfb11d",
   "metadata": {},
   "outputs": [],
   "source": [
    "\n",
    "if __name__ == '__main__':\n",
    "    freeze_support()\n",
    "    spacy.require_gpu()\n",
    "    nlp = spacy.load(\"./output/model-best\")\n",
    "\n",
    "    # for ent in doc.ents:\n",
    "    #     print (ent.text, ent.label_)\n",
    "\n",
    "    dataframe = pd.read_csv('./dataset/Listing_Titles.tsv', sep='\\t', on_bad_lines='skip', quoting=csv.QUOTE_NONE, encoding='utf8')\n",
    "\n",
    "    outsize = 1024 * 1024 * 1024 # 1GB"
   ]
  },
  {
   "cell_type": "code",
   "execution_count": 14,
   "id": "2bf36df6",
   "metadata": {},
   "outputs": [],
   "source": [
    "    listing_titles = [(dataframe[\"Title\"][i], i) for i in range(0, len(dataframe[\"Title\"]))][5000:30000]"
   ]
  },
  {
   "cell_type": "code",
   "execution_count": 16,
   "id": "21e0f829",
   "metadata": {},
   "outputs": [
    {
     "name": "stderr",
     "output_type": "stream",
     "text": [
      "100%|██████████████████████████████████████████████████████████████████████████| 25000/25000 [00:19<00:00, 1297.56it/s]\n"
     ]
    }
   ],
   "source": [
    "    result = []\n",
    "\n",
    "    with tqdm(total = 25000) as pbar:\n",
    "        buffer = \"\"\n",
    "        for doc, i in nlp.pipe(listing_titles, as_tuples=True, batch_size=10000):\n",
    "            for ent in doc.ents:\n",
    "                if(ent.label_ != \"No Tag\" and ent.label_ != \"Obscure\"):\n",
    "                    result.append(str(i + 1) + '\\t' + ent.label_ + '\\t' + ent.text)\n",
    "            pbar.update(1)\n",
    "            \n",
    "    output = open(\"output.tsv\", \"w\", encoding=\"utf-8\")  # write mode\n",
    "    output.write('\\n'.join(result))\n",
    "    output.close()"
   ]
  },
  {
   "cell_type": "code",
   "execution_count": null,
   "id": "0867d820",
   "metadata": {},
   "outputs": [],
   "source": []
  }
 ],
 "metadata": {
  "kernelspec": {
   "display_name": "Python [conda env:poopy]",
   "language": "python",
   "name": "conda-env-poopy-py"
  },
  "language_info": {
   "codemirror_mode": {
    "name": "ipython",
    "version": 3
   },
   "file_extension": ".py",
   "mimetype": "text/x-python",
   "name": "python",
   "nbconvert_exporter": "python",
   "pygments_lexer": "ipython3",
   "version": "3.10.4"
  }
 },
 "nbformat": 4,
 "nbformat_minor": 5
}
