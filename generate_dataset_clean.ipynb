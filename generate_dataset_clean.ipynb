{
 "cells": [
  {
   "cell_type": "code",
   "execution_count": 5,
   "metadata": {},
   "outputs": [],
   "source": [
    "import os\n",
    "import pandas as pd\n",
    "import csv\n",
    "import spacy\n",
    "from spacy.tokens import DocBin\n",
    "import string"
   ]
  },
  {
   "cell_type": "code",
   "execution_count": 6,
   "metadata": {},
   "outputs": [],
   "source": [
    "tagged_titles = pd.read_csv('./testset/Train_Tagged_Titles.tsv', sep='\\t', on_bad_lines='skip', quoting=csv.QUOTE_NONE, encoding='utf8')\n",
    "\n",
    "valid_tags = ['Accents', 'Brand', 'Character', 'Character Family', 'Closure', 'Color', 'Country/Region of Manufacture', 'Department', 'Fabric Type', 'Features', 'Handle Drop', 'Handle Style', 'Handle/Strap Material', 'Hardware Material', 'Lining Material', 'MPN', 'Material', 'Measurement, Dimension', 'Model', 'Occasion', 'Pattern', 'Pocket Type', 'Product Line', 'Season', 'Size', 'Strap Drop', 'Style', 'Theme', 'Trim Material', 'Type']\n",
    "\n",
    "tokens = tagged_titles.groupby('Record Number')['Token'].apply(list).to_dict()\n",
    "tags = tagged_titles.groupby('Record Number')['Tag'].apply(list).to_dict()"
   ]
  },
  {
   "cell_type": "code",
   "execution_count": 7,
   "metadata": {},
   "outputs": [],
   "source": [
    "raw_tokenized_data = [[(tokens[i][j].lower().translate(str.maketrans('', '', string.punctuation)), tags[i][j]) for j in range(0, len(tags[i]))] for i in range(1, len(tags) + 1)]\n",
    "\n",
    "#Append NaN token to previous value\n",
    "#ex. append \"Vuitton\" to \"Louis\" in \"Louis Vuitton\"\n",
    "#special case: append 's without a space in Women's because Women + 's = Women's\n",
    "for i in range(0, len(raw_tokenized_data)):\n",
    "    for j in reversed(range(1, len(raw_tokenized_data[i]))):\n",
    "        if (raw_tokenized_data[i][j][1] != raw_tokenized_data[i][j][1]): #python nan moment\n",
    "            if (raw_tokenized_data[i][j][0][0] == '\\''):   #special case for apostrophe\n",
    "                raw_tokenized_data[i][j - 1] = (raw_tokenized_data[i][j - 1][0] + raw_tokenized_data[i][j][0], raw_tokenized_data[i][j - 1][1])\n",
    "            else:\n",
    "                raw_tokenized_data[i][j - 1] = (raw_tokenized_data[i][j - 1][0] + \" \" +  raw_tokenized_data[i][j][0], raw_tokenized_data[i][j - 1][1])\n"
   ]
  },
  {
   "cell_type": "code",
   "execution_count": 8,
   "metadata": {},
   "outputs": [],
   "source": [
    "#get rid of the NaN values\n",
    "trimmed_tokenized_data = [[i for i in item if not i[1] != i[1]] for item in raw_tokenized_data]\n"
   ]
  },
  {
   "cell_type": "code",
   "execution_count": 9,
   "metadata": {},
   "outputs": [],
   "source": [
    "#reinitialize tokens and tags\n",
    "#TODO: special case the apostrophe\n",
    "tokens = [' '.join([i[0] for i in item]) for item in trimmed_tokenized_data]\n",
    "tags = [[i[1] for i in item] for item in trimmed_tokenized_data]\n"
   ]
  },
  {
   "cell_type": "code",
   "execution_count": 10,
   "metadata": {},
   "outputs": [],
   "source": [
    "#convert from\n",
    "# [token, token, ...]\n",
    "# [tag, tag, ...]\n",
    "# to \n",
    "# [[title, [(begin, end, token), (begin, end, token), ...]], [title, [(begin, end, token), (begin, end, token), ...]], ...]\n",
    "for i in range(0, len(tags)):\n",
    "    curr = 0\n",
    "    for j in range(0, len(tags[i])):\n",
    "        tags[i][j] = (curr, curr + len(trimmed_tokenized_data[i][j][0]), tags[i][j])\n",
    "        curr += len(trimmed_tokenized_data[i][j][0]) + 1\n",
    "#this stays\n",
    "amouranth = [(tokens[i], tags[i]) for i in range(0, len(tokens))]"
   ]
  },
  {
   "cell_type": "code",
   "execution_count": 11,
   "metadata": {},
   "outputs": [
    {
     "data": {
      "text/plain": [
       "[('louis vuitton women s priscilla multicolor canvas multicolor canvas',\n",
       "  [(0, 13, 'Brand'),\n",
       "   (14, 21, 'Department'),\n",
       "   (22, 31, 'Model'),\n",
       "   (32, 42, 'Color'),\n",
       "   (43, 49, 'Fabric Type'),\n",
       "   (50, 60, 'Color'),\n",
       "   (61, 67, 'Fabric Type')]),\n",
       " ('louis vuitton petit noe drawstring shoulder bag monogram leather m42226 39sd442',\n",
       "  [(0, 13, 'Brand'),\n",
       "   (14, 23, 'Model'),\n",
       "   (24, 34, 'Closure'),\n",
       "   (35, 43, 'Type'),\n",
       "   (44, 47, 'Type'),\n",
       "   (48, 56, 'Pattern'),\n",
       "   (57, 64, 'Material'),\n",
       "   (65, 71, 'MPN'),\n",
       "   (72, 79, 'No Tag')]),\n",
       " ('louis vuitton damier azur pochette bosphore shoulder bag n51112 lv auth yt523',\n",
       "  [(0, 13, 'Brand'),\n",
       "   (14, 20, 'Product Line'),\n",
       "   (21, 25, 'Color'),\n",
       "   (26, 34, 'Product Line'),\n",
       "   (35, 43, 'Model'),\n",
       "   (44, 52, 'Type'),\n",
       "   (53, 56, 'Type'),\n",
       "   (57, 63, 'MPN'),\n",
       "   (64, 66, 'Brand'),\n",
       "   (67, 71, 'No Tag'),\n",
       "   (72, 77, 'No Tag')]),\n",
       " ('gucci bamboo 2way shoulder bag leather brown auth fm1002',\n",
       "  [(0, 5, 'Brand'),\n",
       "   (6, 12, 'Product Line'),\n",
       "   (13, 17, 'Features'),\n",
       "   (18, 26, 'Type'),\n",
       "   (27, 30, 'Type'),\n",
       "   (31, 38, 'Material'),\n",
       "   (39, 44, 'Color'),\n",
       "   (45, 49, 'No Tag'),\n",
       "   (50, 56, 'MPN')]),\n",
       " ('rank ab vintage gucci sherry line pvc leather clutch bag brown from japan a128',\n",
       "  [(0, 4, 'No Tag'),\n",
       "   (5, 7, 'No Tag'),\n",
       "   (8, 15, 'No Tag'),\n",
       "   (16, 21, 'Brand'),\n",
       "   (22, 33, 'Product Line'),\n",
       "   (34, 45, 'Material'),\n",
       "   (46, 52, 'Type'),\n",
       "   (53, 56, 'Type'),\n",
       "   (57, 62, 'Color'),\n",
       "   (63, 67, 'No Tag'),\n",
       "   (68, 73, 'No Tag'),\n",
       "   (74, 78, 'No Tag')]),\n",
       " ('1970s nyc bonnie cashin coach brown gray leather saddle pouch crossbody bag',\n",
       "  [(0, 5, 'Theme'),\n",
       "   (6, 9, 'Country/Region of Manufacture'),\n",
       "   (10, 23, 'Model'),\n",
       "   (24, 29, 'Brand'),\n",
       "   (30, 35, 'Color'),\n",
       "   (36, 40, 'Color'),\n",
       "   (41, 48, 'Material'),\n",
       "   (49, 55, 'Type'),\n",
       "   (56, 61, 'Type'),\n",
       "   (62, 71, 'TypeEEEEEEEEEEEEEEEEEEE'),\n",
       "   (72, 75, 'Type')]),\n",
       " ('louis vuitton epi serviette fermoir business bag brown m54358 lv auth gt2071',\n",
       "  [(0, 13, 'Brand'),\n",
       "   (14, 17, 'Material'),\n",
       "   (18, 35, 'Model'),\n",
       "   (36, 44, 'Occasion'),\n",
       "   (45, 48, 'Type'),\n",
       "   (49, 54, 'Color'),\n",
       "   (55, 61, 'MPN'),\n",
       "   (62, 64, 'Brand'),\n",
       "   (65, 69, 'No Tag'),\n",
       "   (70, 76, 'No Tag')]),\n",
       " ('womens handbag', [(0, 6, 'Department'), (7, 14, 'Type')]),\n",
       " ('chanel leo lion flap bag chevron lambskin medium',\n",
       "  [(0, 6, 'Brand'),\n",
       "   (7, 15, 'Model'),\n",
       "   (16, 20, 'Type'),\n",
       "   (21, 24, 'Type'),\n",
       "   (25, 32, 'Pattern'),\n",
       "   (33, 41, 'Material'),\n",
       "   (42, 48, 'Size')]),\n",
       " ('gucci white  hobo  vintage handbag authenticated two tone  genuine leather ',\n",
       "  [(0, 5, 'Brand'),\n",
       "   (6, 11, 'Color'),\n",
       "   (12, 12, 'No Tag'),\n",
       "   (13, 17, 'Type'),\n",
       "   (18, 18, 'No Tag'),\n",
       "   (19, 26, 'No Tag'),\n",
       "   (27, 34, 'Type'),\n",
       "   (35, 48, 'No Tag'),\n",
       "   (49, 52, 'No Tag'),\n",
       "   (53, 57, 'No Tag'),\n",
       "   (58, 58, 'No Tag'),\n",
       "   (59, 66, 'No Tag'),\n",
       "   (67, 74, 'Material'),\n",
       "   (75, 75, 'No Tag')])]"
      ]
     },
     "execution_count": 11,
     "metadata": {},
     "output_type": "execute_result"
    }
   ],
   "source": [
    "amouranth"
   ]
  },
  {
   "cell_type": "code",
   "execution_count": 12,
   "metadata": {},
   "outputs": [],
   "source": [
    "#add valid tags\n",
    "nlp = spacy.blank(\"en\")\n",
    "ner = nlp.add_pipe(\"ner\")\n",
    "for tag in valid_tags:\n",
    "    ner.add_label(tag)"
   ]
  },
  {
   "cell_type": "code",
   "execution_count": 13,
   "metadata": {},
   "outputs": [],
   "source": [
    "#split data into train and dev\n",
    "dev = amouranth[::10]\n",
    "train = amouranth\n",
    "del train[::10]"
   ]
  },
  {
   "cell_type": "code",
   "execution_count": 14,
   "metadata": {},
   "outputs": [
    {
     "name": "stdout",
     "output_type": "stream",
     "text": [
      "skipping entity\n",
      "skipping entity\n",
      "skipping entity\n",
      "skipping entity\n",
      "wrote 9 lines to ./trainset/train.spacy\n",
      "wrote 1 lines to ./trainset/dev.spacy\n"
     ]
    }
   ],
   "source": [
    "#output data\n",
    "os.makedirs(\"./trainset\", exist_ok=True)\n",
    "\n",
    "db = DocBin()\n",
    "for text, annotations in train:\n",
    "    doc = nlp.make_doc(text)\n",
    "    ents = []\n",
    "    for start, end, label in annotations:\n",
    "        span = doc.char_span(start, end, label=label)\n",
    "        if(span is None):\n",
    "            print(\"skipping entity\")\n",
    "        else:\n",
    "            ents.append(span)\n",
    "    doc.ents = ents\n",
    "    db.add(doc)\n",
    "\n",
    "db.to_disk(\"./trainset/train.spacy\")\n",
    "print(\"wrote \" + str(len(train)) + \" lines to ./trainset/train.spacy\")\n",
    "\n",
    "db = DocBin()\n",
    "for text, annotations in dev:\n",
    "    doc = nlp.make_doc(text)\n",
    "    ents = []\n",
    "    for start, end, label in annotations:\n",
    "        span = doc.char_span(start, end, label=label)\n",
    "        if(span is None):\n",
    "            print(\"skipping entity\")\n",
    "        else:\n",
    "            ents.append(span)\n",
    "    doc.ents = ents\n",
    "    db.add(doc)\n",
    "\n",
    "db.to_disk(\"./trainset/dev.spacy\")\n",
    "print(\"wrote \" + str(len(dev)) + \" lines to ./trainset/dev.spacy\")"
   ]
  }
 ],
 "metadata": {
  "kernelspec": {
   "display_name": "Python 3.10.4 ('poopy')",
   "language": "python",
   "name": "python3"
  },
  "language_info": {
   "codemirror_mode": {
    "name": "ipython",
    "version": 3
   },
   "file_extension": ".py",
   "mimetype": "text/x-python",
   "name": "python",
   "nbconvert_exporter": "python",
   "pygments_lexer": "ipython3",
   "version": "3.10.4"
  },
  "orig_nbformat": 4,
  "vscode": {
   "interpreter": {
    "hash": "f52ab0dcc20aaef27cce08a77f09e222b8b3949b76637bac784c92d7f6a2f51c"
   }
  }
 },
 "nbformat": 4,
 "nbformat_minor": 2
}
