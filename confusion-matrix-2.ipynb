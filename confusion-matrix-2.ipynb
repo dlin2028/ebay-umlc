{
 "cells": [
  {
   "cell_type": "code",
   "execution_count": 100,
   "metadata": {},
   "outputs": [],
   "source": [
    "import spacy\n",
    "import json\n",
    "from spacy.tokens import DocBin"
   ]
  },
  {
   "cell_type": "code",
   "execution_count": 101,
   "metadata": {},
   "outputs": [],
   "source": [
    "def load_data(fileName):\n",
    "    with open(fileName, mode='rb') as file: # b is important -> binary\n",
    "        doc_bin = DocBin().from_disk(file.read())\n",
    "        docs = list(doc_bin.get_docs(nlp.vocab))\n",
    "        return docs\n",
    "\n",
    "def write_data(file, data):\n",
    "    with open (file, \"w\", encoding=\"utf-8\") as f:\n",
    "        json.dump(data, f, indent=4)"
   ]
  },
  {
   "cell_type": "code",
   "execution_count": 102,
   "metadata": {},
   "outputs": [],
   "source": [
    "nlp = spacy.load(\"models/model-best\")"
   ]
  },
  {
   "cell_type": "code",
   "execution_count": 103,
   "metadata": {},
   "outputs": [
    {
     "name": "stdout",
     "output_type": "stream",
     "text": [
      "['Auth GUCCI GG Plus Web Sherry Line Shoulder Tote Bag PVC Leather Brown 0803A', {'entities': [[0, 4, 'No Tag'], [5, 10, 'Brand'], [11, 18, 'Product Line'], [19, 34, 'Product Line'], [35, 43, 'Type'], [44, 48, 'Type'], [49, 52, 'Type'], [53, 64, 'Material'], [65, 70, 'Color'], [71, 76, 'No Tag']]}]\n"
     ]
    }
   ],
   "source": [
    "db = DocBin().from_disk((\"trainset/dev.spacy\"))\n",
    "doc_list = list(db.get_docs(nlp.vocab))\n",
    "\n",
    "docs = []\n",
    "for doc in doc_list:\n",
    "    ents = [[ee.start_char, ee.end_char, ee.label_] for ee in doc.ents]\n",
    "    docs.append([doc.text, {'entities':ents}] )\n",
    "\n",
    "print(docs[10])"
   ]
  },
  {
   "cell_type": "code",
   "execution_count": 104,
   "metadata": {},
   "outputs": [],
   "source": [
    "from spacy.training import offsets_to_biluo_tags\n",
    "def get_cleaned_label(label: str):\n",
    "    if \"-\" in label:\n",
    "        return label.split(\"-\")[1]\n",
    "    else:\n",
    "        return label\n",
    "    \n",
    "def create_total_target_vector(docs):\n",
    "    target_vector = []\n",
    "    for doc in docs:\n",
    "        print (doc)\n",
    "        new = doc[0]\n",
    "        entities = doc[1][\"entities\"]\n",
    "        bilou_entities = offsets_to_biluo_tags(new, entities)\n",
    "        final = []\n",
    "        for item in bilou_entities:\n",
    "            final.append(get_cleaned_label(item))\n",
    "        target_vector.extend(final)\n",
    "    return target_vector"
   ]
  },
  {
   "cell_type": "code",
   "execution_count": 105,
   "metadata": {},
   "outputs": [],
   "source": [
    "def create_prediction_vector(text):\n",
    "    return [get_cleaned_label(prediction) for prediction in get_all_ner_predictions(text)]\n",
    "\n",
    "def create_total_prediction_vector(docs: list):\n",
    "    prediction_vector = []\n",
    "    for doc in docs:\n",
    "        prediction_vector.extend(create_prediction_vector(doc[0]))\n",
    "    return prediction_vector\n",
    "\n",
    "def get_all_ner_predictions(text):\n",
    "    doc = nlp(text)\n",
    "    entities = [(e.start_char, e.end_char, e.label_) for e in doc.ents]\n",
    "    bilou_entities = offsets_to_biluo_tags(doc, entities)\n",
    "    return bilou_entities"
   ]
  },
  {
   "cell_type": "code",
   "execution_count": 106,
   "metadata": {},
   "outputs": [],
   "source": [
    "def get_model_labels():\n",
    "    labels = list(nlp.get_pipe(\"ner\").labels)\n",
    "    labels.append(\"O\")\n",
    "    return sorted(labels)\n",
    "def get_dataset_labels():\n",
    "    return sorted(set(create_total_target_vector(docs)))"
   ]
  },
  {
   "cell_type": "code",
   "execution_count": 107,
   "metadata": {},
   "outputs": [],
   "source": [
    "# sorted(set(create_total_target_vector(docs)))"
   ]
  },
  {
   "cell_type": "code",
   "execution_count": 108,
   "metadata": {},
   "outputs": [],
   "source": [
    "from sklearn.metrics import confusion_matrix\n",
    "\n",
    "def generate_confusion_matrix(docs): \n",
    "    classes = sorted(set(create_total_target_vector(docs)))\n",
    "    y_true = create_total_target_vector(docs)\n",
    "    y_pred = create_total_prediction_vector(docs)\n",
    "    print (y_true)\n",
    "    print (y_pred)\n",
    "    return confusion_matrix(y_true, y_pred, classes)"
   ]
  },
  {
   "cell_type": "code",
   "execution_count": 109,
   "metadata": {},
   "outputs": [],
   "source": [
    "# generate_confusion_matrix(docs)"
   ]
  },
  {
   "cell_type": "code",
   "execution_count": 110,
   "metadata": {},
   "outputs": [],
   "source": [
    "from matplotlib import pyplot\n",
    "import numpy\n",
    "\n",
    "def plot_confusion_matrix(docs, classes, normalize=False, cmap=pyplot.cm.Blues):\n",
    "    \"\"\"\n",
    "    This function prints and plots the confusion matrix.\n",
    "    Normalization can be applied by setting `normalize=True`.\n",
    "    \"\"\"\n",
    "   \n",
    "    title = 'Confusion Matrix, for SpaCy NER'\n",
    "\n",
    "    # Compute confusion matrix\n",
    "    cm = generate_confusion_matrix(docs)\n",
    "    if normalize:\n",
    "        cm = cm.astype('float') / cm.sum(axis=1)[:, numpy.newaxis]\n",
    "\n",
    "    fig, ax = pyplot.subplots()\n",
    "    im = ax.imshow(cm, interpolation='nearest', cmap=cmap)\n",
    "    ax.figure.colorbar(im, ax=ax)\n",
    "    # We want to show all ticks...\n",
    "    ax.set(xticks=numpy.arange(cm.shape[1]),\n",
    "           yticks=numpy.arange(cm.shape[0]),\n",
    "           # ... and label them with the respective list entries\n",
    "           xticklabels=classes, yticklabels=classes,\n",
    "           title=title,\n",
    "           ylabel='True label',\n",
    "           xlabel='Predicted label')\n",
    "\n",
    "    # Rotate the tick labels and set their alignment.\n",
    "    pyplot.setp(ax.get_xticklabels(), rotation=45, ha=\"right\", rotation_mode=\"anchor\")\n",
    "\n",
    "    # Loop over data dimensions and create text annotations.\n",
    "    fmt = '.2f' if normalize else 'd'\n",
    "    thresh = cm.max() / 2.\n",
    "    for i in range(cm.shape[0]):\n",
    "        for j in range(cm.shape[1]):\n",
    "            ax.text(j, i, format(cm[i, j], fmt),\n",
    "                    ha=\"center\", va=\"center\",\n",
    "                    color=\"white\" if cm[i, j] > thresh else \"black\")\n",
    "    fig.tight_layout()\n",
    "    return cm, ax, pyplot"
   ]
  },
  {
   "cell_type": "code",
   "execution_count": 111,
   "metadata": {},
   "outputs": [
    {
     "name": "stdout",
     "output_type": "stream",
     "text": [
      "['LOUIS VUITTON M40096 Handbag Priscilla Multi-color canvas Multi-color canvas', {'entities': [[0, 13, 'Brand'], [14, 20, 'MPN'], [21, 28, 'Type'], [29, 38, 'Model'], [39, 50, 'Color'], [51, 57, 'Fabric Type'], [58, 69, 'Color'], [70, 76, 'Fabric Type']]}]\n",
      "[[0, 13, 'Brand'], [14, 20, 'MPN'], [21, 28, 'Type'], [29, 38, 'Model'], [39, 50, 'Color'], [51, 57, 'Fabric Type'], [58, 69, 'Color'], [70, 76, 'Fabric Type']]\n"
     ]
    },
    {
     "ename": "AttributeError",
     "evalue": "'str' object has no attribute 'idx'",
     "output_type": "error",
     "traceback": [
      "\u001b[0;31m---------------------------------------------------------------------------\u001b[0m",
      "\u001b[0;31mAttributeError\u001b[0m                            Traceback (most recent call last)",
      "\u001b[1;32m/home/davidlin/ebay-umlc/confusion-matrix-2.ipynb Cell 12\u001b[0m in \u001b[0;36m<cell line: 1>\u001b[0;34m()\u001b[0m\n\u001b[0;32m----> <a href='vscode-notebook-cell://wsl%2Bubuntu-22.04/home/davidlin/ebay-umlc/confusion-matrix-2.ipynb#X14sdnNjb2RlLXJlbW90ZQ%3D%3D?line=0'>1</a>\u001b[0m plot_confusion_matrix(docs,classes\u001b[39m=\u001b[39mget_dataset_labels(),normalize\u001b[39m=\u001b[39m\u001b[39mFalse\u001b[39;00m)\n",
      "\u001b[1;32m/home/davidlin/ebay-umlc/confusion-matrix-2.ipynb Cell 12\u001b[0m in \u001b[0;36mget_dataset_labels\u001b[0;34m()\u001b[0m\n\u001b[1;32m      <a href='vscode-notebook-cell://wsl%2Bubuntu-22.04/home/davidlin/ebay-umlc/confusion-matrix-2.ipynb#X14sdnNjb2RlLXJlbW90ZQ%3D%3D?line=4'>5</a>\u001b[0m \u001b[39mdef\u001b[39;00m \u001b[39mget_dataset_labels\u001b[39m():\n\u001b[0;32m----> <a href='vscode-notebook-cell://wsl%2Bubuntu-22.04/home/davidlin/ebay-umlc/confusion-matrix-2.ipynb#X14sdnNjb2RlLXJlbW90ZQ%3D%3D?line=5'>6</a>\u001b[0m     \u001b[39mreturn\u001b[39;00m \u001b[39msorted\u001b[39m(\u001b[39mset\u001b[39m(create_total_target_vector(docs)))\n",
      "\u001b[1;32m/home/davidlin/ebay-umlc/confusion-matrix-2.ipynb Cell 12\u001b[0m in \u001b[0;36mcreate_total_target_vector\u001b[0;34m(docs)\u001b[0m\n\u001b[1;32m     <a href='vscode-notebook-cell://wsl%2Bubuntu-22.04/home/davidlin/ebay-umlc/confusion-matrix-2.ipynb#X14sdnNjb2RlLXJlbW90ZQ%3D%3D?line=12'>13</a>\u001b[0m entities \u001b[39m=\u001b[39m doc[\u001b[39m1\u001b[39m][\u001b[39m\"\u001b[39m\u001b[39mentities\u001b[39m\u001b[39m\"\u001b[39m]\n\u001b[1;32m     <a href='vscode-notebook-cell://wsl%2Bubuntu-22.04/home/davidlin/ebay-umlc/confusion-matrix-2.ipynb#X14sdnNjb2RlLXJlbW90ZQ%3D%3D?line=13'>14</a>\u001b[0m \u001b[39mprint\u001b[39m(entities)\n\u001b[0;32m---> <a href='vscode-notebook-cell://wsl%2Bubuntu-22.04/home/davidlin/ebay-umlc/confusion-matrix-2.ipynb#X14sdnNjb2RlLXJlbW90ZQ%3D%3D?line=14'>15</a>\u001b[0m bilou_entities \u001b[39m=\u001b[39m offsets_to_biluo_tags(new, entities)\n\u001b[1;32m     <a href='vscode-notebook-cell://wsl%2Bubuntu-22.04/home/davidlin/ebay-umlc/confusion-matrix-2.ipynb#X14sdnNjb2RlLXJlbW90ZQ%3D%3D?line=15'>16</a>\u001b[0m final \u001b[39m=\u001b[39m []\n\u001b[1;32m     <a href='vscode-notebook-cell://wsl%2Bubuntu-22.04/home/davidlin/ebay-umlc/confusion-matrix-2.ipynb#X14sdnNjb2RlLXJlbW90ZQ%3D%3D?line=16'>17</a>\u001b[0m \u001b[39mfor\u001b[39;00m item \u001b[39min\u001b[39;00m bilou_entities:\n",
      "File \u001b[0;32m~/miniconda3/envs/poopy/lib/python3.10/site-packages/spacy/training/iob_utils.py:94\u001b[0m, in \u001b[0;36moffsets_to_biluo_tags\u001b[0;34m(doc, entities, missing)\u001b[0m\n\u001b[1;32m     92\u001b[0m \u001b[39m# Ensure no overlapping entity labels exist\u001b[39;00m\n\u001b[1;32m     93\u001b[0m tokens_in_ents: Dict[\u001b[39mint\u001b[39m, Tuple[\u001b[39mint\u001b[39m, \u001b[39mint\u001b[39m, Union[\u001b[39mstr\u001b[39m, \u001b[39mint\u001b[39m]]] \u001b[39m=\u001b[39m {}\n\u001b[0;32m---> 94\u001b[0m starts \u001b[39m=\u001b[39m {token\u001b[39m.\u001b[39midx: token\u001b[39m.\u001b[39mi \u001b[39mfor\u001b[39;00m token \u001b[39min\u001b[39;00m doc}\n\u001b[1;32m     95\u001b[0m ends \u001b[39m=\u001b[39m {token\u001b[39m.\u001b[39midx \u001b[39m+\u001b[39m \u001b[39mlen\u001b[39m(token): token\u001b[39m.\u001b[39mi \u001b[39mfor\u001b[39;00m token \u001b[39min\u001b[39;00m doc}\n\u001b[1;32m     96\u001b[0m biluo \u001b[39m=\u001b[39m [\u001b[39m\"\u001b[39m\u001b[39m-\u001b[39m\u001b[39m\"\u001b[39m \u001b[39mfor\u001b[39;00m _ \u001b[39min\u001b[39;00m doc]\n",
      "File \u001b[0;32m~/miniconda3/envs/poopy/lib/python3.10/site-packages/spacy/training/iob_utils.py:94\u001b[0m, in \u001b[0;36m<dictcomp>\u001b[0;34m(.0)\u001b[0m\n\u001b[1;32m     92\u001b[0m \u001b[39m# Ensure no overlapping entity labels exist\u001b[39;00m\n\u001b[1;32m     93\u001b[0m tokens_in_ents: Dict[\u001b[39mint\u001b[39m, Tuple[\u001b[39mint\u001b[39m, \u001b[39mint\u001b[39m, Union[\u001b[39mstr\u001b[39m, \u001b[39mint\u001b[39m]]] \u001b[39m=\u001b[39m {}\n\u001b[0;32m---> 94\u001b[0m starts \u001b[39m=\u001b[39m {token\u001b[39m.\u001b[39;49midx: token\u001b[39m.\u001b[39mi \u001b[39mfor\u001b[39;00m token \u001b[39min\u001b[39;00m doc}\n\u001b[1;32m     95\u001b[0m ends \u001b[39m=\u001b[39m {token\u001b[39m.\u001b[39midx \u001b[39m+\u001b[39m \u001b[39mlen\u001b[39m(token): token\u001b[39m.\u001b[39mi \u001b[39mfor\u001b[39;00m token \u001b[39min\u001b[39;00m doc}\n\u001b[1;32m     96\u001b[0m biluo \u001b[39m=\u001b[39m [\u001b[39m\"\u001b[39m\u001b[39m-\u001b[39m\u001b[39m\"\u001b[39m \u001b[39mfor\u001b[39;00m _ \u001b[39min\u001b[39;00m doc]\n",
      "\u001b[0;31mAttributeError\u001b[0m: 'str' object has no attribute 'idx'"
     ]
    }
   ],
   "source": [
    "\n",
    "plot_confusion_matrix(docs,classes=get_dataset_labels(),normalize=False)"
   ]
  },
  {
   "cell_type": "code",
   "execution_count": null,
   "metadata": {},
   "outputs": [],
   "source": []
  }
 ],
 "metadata": {
  "kernelspec": {
   "display_name": "Python 3.10.4 ('poopy')",
   "language": "python",
   "name": "python3"
  },
  "language_info": {
   "codemirror_mode": {
    "name": "ipython",
    "version": 3
   },
   "file_extension": ".py",
   "mimetype": "text/x-python",
   "name": "python",
   "nbconvert_exporter": "python",
   "pygments_lexer": "ipython3",
   "version": "3.10.4"
  },
  "vscode": {
   "interpreter": {
    "hash": "fafa401562e10296abee49c60845fc6c7bab56f8651426050e4a3d10593a4d2c"
   }
  }
 },
 "nbformat": 4,
 "nbformat_minor": 5
}
