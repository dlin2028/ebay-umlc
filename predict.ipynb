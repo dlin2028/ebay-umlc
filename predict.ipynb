{
 "cells": [
  {
   "cell_type": "code",
   "execution_count": 13,
   "id": "051ced2a",
   "metadata": {},
   "outputs": [
    {
     "name": "stdout",
     "output_type": "stream",
     "text": [
      "env: LC_ALL=C\n"
     ]
    }
   ],
   "source": [
    "%env LC_ALL=C\n",
    "from cgitb import text\n",
    "import spacy\n",
    "import os\n",
    "import csv\n",
    "import pandas as pd\n",
    "import numpy as np\n",
    "from tqdm import tqdm\n",
    "from spacy.tokens import DocBin\n",
    "from multiprocessing import Process, freeze_support, set_start_method"
   ]
  },
  {
   "cell_type": "code",
   "execution_count": 14,
   "id": "573885e9",
   "metadata": {},
   "outputs": [],
   "source": [
    "def load_word_vectors(model_name, word_vectors):\n",
    "    import spacy\n",
    "    import subprocess\n",
    "    import sys\n",
    "    subprocess.run([sys.executable,\n",
    "                    \"-m\",\n",
    "                    \"spacy\",\n",
    "                    \"init-model\",\n",
    "                    \"en\",\n",
    "                    model_name,\n",
    "                    \"--vectors-loc\",\n",
    "                    word_vectors\n",
    "                        ]\n",
    "                    )\n",
    "    print (f\"New spaCy model created with word vectors. File: {model_name}\")"
   ]
  },
  {
   "cell_type": "code",
   "execution_count": 15,
   "id": "a2cfb11d",
   "metadata": {},
   "outputs": [],
   "source": [
    "spacy.prefer_gpu()\n",
    "# load_word_vectors(\"./models/model-best\", \"dataset/word_vecs.txt\")\n",
    "nlp = spacy.load(\"./models/model-best\")\n",
    "dataframe = pd.read_csv('./dataset/Listing_Titles.tsv', sep='\\t', on_bad_lines='skip', quoting=csv.QUOTE_NONE, encoding='utf8')"
   ]
  },
  {
   "cell_type": "code",
   "execution_count": 16,
   "id": "2bf36df6",
   "metadata": {},
   "outputs": [
    {
     "ename": "AttributeError",
     "evalue": "'tuple' object has no attribute 'lower'",
     "output_type": "error",
     "traceback": [
      "\u001b[0;31m---------------------------------------------------------------------------\u001b[0m",
      "\u001b[0;31mAttributeError\u001b[0m                            Traceback (most recent call last)",
      "\u001b[1;32m/home/davidlin/ebay-umlc/predict.ipynb Cell 4\u001b[0m in \u001b[0;36m<cell line: 2>\u001b[0;34m()\u001b[0m\n\u001b[1;32m      <a href='vscode-notebook-cell://wsl%2Bubuntu-22.04/home/davidlin/ebay-umlc/predict.ipynb#ch0000003vscode-remote?line=0'>1</a>\u001b[0m listing_titles \u001b[39m=\u001b[39m [(dataframe[\u001b[39m\"\u001b[39m\u001b[39mTitle\u001b[39m\u001b[39m\"\u001b[39m][i], i) \u001b[39mfor\u001b[39;00m i \u001b[39min\u001b[39;00m \u001b[39mrange\u001b[39m(\u001b[39m0\u001b[39m, \u001b[39mlen\u001b[39m(dataframe[\u001b[39m\"\u001b[39m\u001b[39mTitle\u001b[39m\u001b[39m\"\u001b[39m]))][\u001b[39m5000\u001b[39m:\u001b[39m30000\u001b[39m]\n\u001b[0;32m----> <a href='vscode-notebook-cell://wsl%2Bubuntu-22.04/home/davidlin/ebay-umlc/predict.ipynb#ch0000003vscode-remote?line=1'>2</a>\u001b[0m listing_titles \u001b[39m=\u001b[39m [title\u001b[39m.\u001b[39mlower() \u001b[39mfor\u001b[39;00m title \u001b[39min\u001b[39;00m listing_titles]\n",
      "\u001b[1;32m/home/davidlin/ebay-umlc/predict.ipynb Cell 4\u001b[0m in \u001b[0;36m<listcomp>\u001b[0;34m(.0)\u001b[0m\n\u001b[1;32m      <a href='vscode-notebook-cell://wsl%2Bubuntu-22.04/home/davidlin/ebay-umlc/predict.ipynb#ch0000003vscode-remote?line=0'>1</a>\u001b[0m listing_titles \u001b[39m=\u001b[39m [(dataframe[\u001b[39m\"\u001b[39m\u001b[39mTitle\u001b[39m\u001b[39m\"\u001b[39m][i], i) \u001b[39mfor\u001b[39;00m i \u001b[39min\u001b[39;00m \u001b[39mrange\u001b[39m(\u001b[39m0\u001b[39m, \u001b[39mlen\u001b[39m(dataframe[\u001b[39m\"\u001b[39m\u001b[39mTitle\u001b[39m\u001b[39m\"\u001b[39m]))][\u001b[39m5000\u001b[39m:\u001b[39m30000\u001b[39m]\n\u001b[0;32m----> <a href='vscode-notebook-cell://wsl%2Bubuntu-22.04/home/davidlin/ebay-umlc/predict.ipynb#ch0000003vscode-remote?line=1'>2</a>\u001b[0m listing_titles \u001b[39m=\u001b[39m [title\u001b[39m.\u001b[39;49mlower() \u001b[39mfor\u001b[39;00m title \u001b[39min\u001b[39;00m listing_titles]\n",
      "\u001b[0;31mAttributeError\u001b[0m: 'tuple' object has no attribute 'lower'"
     ]
    }
   ],
   "source": [
    "listing_titles = [(dataframe[\"Title\"][i], i) for i in range(0, len(dataframe[\"Title\"]))][5000:30000]\n",
    "listing_titles = [title for title in listing_titles]"
   ]
  },
  {
   "cell_type": "code",
   "execution_count": null,
   "id": "ef42f47e",
   "metadata": {},
   "outputs": [],
   "source": [
    "#input_titles = [(dataframe[\"Title\"][i], i) for i in range(0, len(dataframe[\"Title\"]))][-100:]\n",
    "listing_titles[0:10]"
   ]
  },
  {
   "cell_type": "code",
   "execution_count": null,
   "id": "21e0f829",
   "metadata": {},
   "outputs": [
    {
     "name": "stderr",
     "output_type": "stream",
     "text": [
      " 72%|███████▏  | 18000/25000 [01:30<00:35, 198.05it/s]\n"
     ]
    }
   ],
   "source": [
    "result = []\n",
    "\n",
    "with tqdm(total = 25000) as pbar:\n",
    "    buffer = \"\"\n",
    "    for doc, i in nlp.pipe(listing_titles, as_tuples=True, batch_size=1000):\n",
    "        for ent in doc.ents:\n",
    "                \n",
    "                #have to extract text from listing_titles[i]\n",
    "                #find the similar text then delete it\n",
    "                #have to add punctuation back if possible\n",
    "                \n",
    "                result.append(str(i + 1) + '\\t' + ent.label_ + '\\t' + ent.text)\n",
    "        pbar.update(1)\n",
    "        \n",
    "#output data\n",
    "os.makedirs(\"./output\", exist_ok=True)\n",
    "output = open(\"output/output.tsv\", \"w\", encoding=\"utf-8\")  # write mode\n",
    "output.write('\\n'.join(result))\n",
    "output.close()"
   ]
  }
 ],
 "metadata": {
  "kernelspec": {
   "display_name": "Python 3.10.4 ('poopy')",
   "language": "python",
   "name": "python3"
  },
  "language_info": {
   "codemirror_mode": {
    "name": "ipython",
    "version": 3
   },
   "file_extension": ".py",
   "mimetype": "text/x-python",
   "name": "python",
   "nbconvert_exporter": "python",
   "pygments_lexer": "ipython3",
   "version": "3.10.4"
  },
  "vscode": {
   "interpreter": {
    "hash": "f52ab0dcc20aaef27cce08a77f09e222b8b3949b76637bac784c92d7f6a2f51c"
   }
  }
 },
 "nbformat": 4,
 "nbformat_minor": 5
}
