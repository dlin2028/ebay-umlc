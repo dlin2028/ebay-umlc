{
 "cells": [
  {
   "cell_type": "code",
   "execution_count": 2,
   "id": "051ced2a",
   "metadata": {},
   "outputs": [],
   "source": [
    "from cgitb import text\n",
    "import spacy\n",
    "import os\n",
    "import csv\n",
    "import pandas as pd\n",
    "import numpy as np\n",
    "from tqdm import tqdm\n",
    "from spacy.tokens import DocBin\n",
    "from multiprocessing import Process, freeze_support, set_start_method"
   ]
  },
  {
   "cell_type": "code",
   "execution_count": 26,
   "id": "573885e9",
   "metadata": {},
   "outputs": [],
   "source": [
    "def load_word_vectors(model_name, word_vectors):\n",
    "    import spacy\n",
    "    import subprocess\n",
    "    import sys\n",
    "    subprocess.run([sys.executable,\n",
    "                    \"-m\",\n",
    "                    \"spacy\",\n",
    "                    \"init\",\n",
    "                    \"vectors\",\n",
    "                    \"en\",\n",
    "                    word_vectors,\n",
    "                    model_name,\n",
    "                        ]\n",
    "                    )\n",
    "    print (f\"New spaCy model created with word vectors. File: {model_name}\")"
   ]
  },
  {
   "cell_type": "code",
   "execution_count": 103,
   "id": "a2cfb11d",
   "metadata": {},
   "outputs": [],
   "source": [
    "spacy.prefer_gpu()\n",
    "nlp = spacy.load(\"./models/model-best\")\n",
    "\n",
    "dataframe = pd.read_csv('./dataset/Train_Tagged_Titles.tsv', sep='\\t', on_bad_lines='skip', quoting=csv.QUOTE_NONE, encoding='utf8')\n",
    "dataframe2 = pd.read_csv('./dataset/Listing_Titles.tsv', sep='\\t', on_bad_lines='skip', quoting=csv.QUOTE_NONE, encoding='utf8')"
   ]
  },
  {
   "cell_type": "code",
   "execution_count": 104,
   "id": "2bf36df6",
   "metadata": {},
   "outputs": [],
   "source": [
    "listing_titles = [(dataframe2[\"Title\"][i], i) for i in range(0, len(dataframe2))][0:5000:10]\n"
   ]
  },
  {
   "cell_type": "code",
   "execution_count": 105,
   "id": "ef42f47e",
   "metadata": {},
   "outputs": [],
   "source": [
    "tagged_titles = pd.read_csv('./dataset/Train_Tagged_Titles.tsv', sep='\\t', on_bad_lines='skip', quoting=csv.QUOTE_NONE, encoding='utf8')\n",
    "\n",
    "tokens = tagged_titles.groupby('Record Number')['Token'].apply(list).to_dict()\n",
    "tags = tagged_titles.groupby('Record Number')['Tag'].apply(list).to_dict()\n",
    "\n",
    "raw_tokenized_data = [[(tokens[i][tiddie], tags[i][tiddie]) for tiddie in range(0, len(tags[i]))] for i in range(1, len(tags) + 1)]\n",
    "\n",
    "for i in range(0, len(raw_tokenized_data)):\n",
    "    for j in reversed(range(1, len(raw_tokenized_data[i]))):\n",
    "        if (raw_tokenized_data[i][j][1] != raw_tokenized_data[i][j][1]): #python nan moment\n",
    "            raw_tokenized_data[i][j - 1] = (raw_tokenized_data[i][j - 1][0] + \" \" + raw_tokenized_data[i][j][0], raw_tokenized_data[i][j - 1][1])\n",
    "trimmed_tokenized_data = [[i for i in item if not i[1] != i[1]] for item in raw_tokenized_data]\n",
    "\n",
    "trimmed_tokenized_data\n",
    "df2 = pd.DataFrame(columns= ['Record Number', 'Token', 'expected'])\n",
    "for i in range(0, len(trimmed_tokenized_data)):\n",
    "    for j in range(0, len(trimmed_tokenized_data[i])) :\n",
    "        if(i % 10 == 0):\n",
    "            df2.loc[len(df2)] = [i + 1, trimmed_tokenized_data[i][j][0], trimmed_tokenized_data[i][j][1]]\n",
    "\n",
    "\n",
    "\n",
    "\n"
   ]
  },
  {
   "cell_type": "code",
   "execution_count": 107,
   "id": "21e0f829",
   "metadata": {},
   "outputs": [
    {
     "name": "stderr",
     "output_type": "stream",
     "text": [
      "100%|██████████| 500/500 [00:06<00:00, 73.74it/s] \n"
     ]
    }
   ],
   "source": [
    "df = pd.DataFrame(columns= ['Record Number', 'Token', 'predicted'])\n",
    "result = []\n",
    "\n",
    "with tqdm(total = 500) as pbar:\n",
    "    buffer = \"\"\n",
    "    for doc, i in nlp.pipe(listing_titles, as_tuples=True, batch_size=10000):\n",
    "        for ent in doc.ents:\n",
    "            # if(ent.label_ != \"No Tag\" and ent.label_ != \"Obscure\"):\n",
    "                result.append(str(i + 1) + '\\t' + ent.label_ + '\\t' + ent.text)\n",
    "                df.loc[len(df)] = [i + 1, ent.text, ent.label_]\n",
    "        pbar.update(1)\n",
    "\n",
    "df = pd.merge(df, df2, how = 'left')\n",
    "\n",
    "frame = pd.DataFrame(df)\n",
    "frame.to_csv('failure_analysis.csv')\n",
    "        \n",
    "output = open(\"output/output.tsv\", \"w\", encoding=\"utf-8\")  # write mode\n",
    "output.write('\\n'.join(result))\n",
    "output.close()"
   ]
  }
 ],
 "metadata": {
  "kernelspec": {
   "display_name": "Python 3.10.4 ('poopy')",
   "language": "python",
   "name": "python3"
  },
  "language_info": {
   "codemirror_mode": {
    "name": "ipython",
    "version": 3
   },
   "file_extension": ".py",
   "mimetype": "text/x-python",
   "name": "python",
   "nbconvert_exporter": "python",
   "pygments_lexer": "ipython3",
   "version": "3.10.6"
  },
  "vscode": {
   "interpreter": {
    "hash": "adf12df7b235022e4c7536daceb7bedbd14b85006e9114754938519bb40d111a"
   }
  }
 },
 "nbformat": 4,
 "nbformat_minor": 5
}
