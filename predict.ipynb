{
 "cells": [
  {
   "cell_type": "code",
   "execution_count": null,
   "id": "051ced2a",
   "metadata": {},
   "outputs": [],
   "source": [
    "%env LC_ALL=C\n",
    "from cgitb import text\n",
    "import spacy\n",
    "import csv\n",
    "import pandas as pd\n",
    "import numpy as np\n",
    "from tqdm import tqdm\n",
    "from spacy.tokens import DocBin\n",
    "from multiprocessing import Process, freeze_support, set_start_method"
   ]
  },
  {
   "cell_type": "code",
   "execution_count": null,
   "id": "573885e9",
   "metadata": {},
   "outputs": [],
   "source": [
    "def load_word_vectors(model_name, word_vectors):\n",
    "    import spacy\n",
    "    import subprocess\n",
    "    import sys\n",
    "    subprocess.run([sys.executable,\n",
    "                    \"-m\",\n",
    "                    \"spacy\",\n",
    "                    \"init-model\",\n",
    "                    \"en\",\n",
    "                    model_name,\n",
    "                    \"--vectors-loc\",\n",
    "                    word_vectors\n",
    "                        ]\n",
    "                    )\n",
    "    print (f\"New spaCy model created with word vectors. File: {model_name}\")"
   ]
  },
  {
   "cell_type": "code",
   "execution_count": null,
   "id": "a2cfb11d",
   "metadata": {},
   "outputs": [],
   "source": [
    "\n",
    "if __name__ == '__main__':\n",
    "    spacy.require_gpu()\n",
    "    load_word_vectors(\"./models/model-best\", \"dataset/word_vecs.txt\")\n",
    "    nlp = spacy.load(\"./models/model-best\")\n",
    "\n",
    "    # for ent in doc.ents:\n",
    "    #     print (ent.text, ent.label_)\n",
    "\n",
    "    dataframe = pd.read_csv('./dataset/Listing_Titles.tsv', sep='\\t', on_bad_lines='skip', quoting=csv.QUOTE_NONE, encoding='utf8')\n",
    "\n",
    "    outsize = 1024 * 1024 * 1024 # 1GB"
   ]
  },
  {
   "cell_type": "code",
   "execution_count": null,
   "id": "2bf36df6",
   "metadata": {},
   "outputs": [],
   "source": [
    "    listing_titles = [(dataframe[\"Title\"][i], i) for i in range(0, len(dataframe[\"Title\"]))][5000:30000]"
   ]
  },
  {
   "cell_type": "code",
   "execution_count": null,
   "id": "21e0f829",
   "metadata": {},
   "outputs": [],
   "source": [
    "    result = []\n",
    "\n",
    "    with tqdm(total = 25000) as pbar:\n",
    "        buffer = \"\"\n",
    "        for doc, i in nlp.pipe(listing_titles, as_tuples=True, batch_size=10000):\n",
    "            for ent in doc.ents:\n",
    "                if(ent.label_ != \"No Tag\" and ent.label_ != \"Obscure\"):\n",
    "                    result.append(str(i + 1) + '\\t' + ent.label_ + '\\t' + ent.text)\n",
    "            pbar.update(1)\n",
    "            \n",
    "    output = open(\"output.tsv\", \"w\", encoding=\"utf-8\")  # write mode\n",
    "    output.write('\\n'.join(result))\n",
    "    output.close()"
   ]
  }
 ],
 "metadata": {
  "kernelspec": {
   "display_name": "Python 3.10.4 ('poopy')",
   "language": "python",
   "name": "python3"
  },
  "language_info": {
   "codemirror_mode": {
    "name": "ipython",
    "version": 3
   },
   "file_extension": ".py",
   "mimetype": "text/x-python",
   "name": "python",
   "nbconvert_exporter": "python",
   "pygments_lexer": "ipython3",
   "version": "3.10.4"
  },
  "vscode": {
   "interpreter": {
    "hash": "f52ab0dcc20aaef27cce08a77f09e222b8b3949b76637bac784c92d7f6a2f51c"
   }
  }
 },
 "nbformat": 4,
 "nbformat_minor": 5
}
