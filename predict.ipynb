{
 "cells": [
  {
   "cell_type": "code",
   "execution_count": 2,
   "id": "051ced2a",
   "metadata": {},
   "outputs": [
    {
     "name": "stdout",
     "output_type": "stream",
     "text": [
      "env: LC_ALL=C\n"
     ]
    },
    {
     "name": "stderr",
     "output_type": "stream",
     "text": [
      "/home/davidlin/.local/lib/python3.10/site-packages/tqdm/auto.py:22: TqdmWarning: IProgress not found. Please update jupyter and ipywidgets. See https://ipywidgets.readthedocs.io/en/stable/user_install.html\n",
      "  from .autonotebook import tqdm as notebook_tqdm\n"
     ]
    }
   ],
   "source": [
    "%env LC_ALL=C\n",
    "from cgitb import text\n",
    "import spacy\n",
    "import csv\n",
    "import pandas as pd\n",
    "import numpy as np\n",
    "from tqdm import tqdm\n",
    "from spacy.tokens import DocBin\n",
    "from multiprocessing import Process, freeze_support, set_start_method\n",
    "import os\n",
    "import json\n",
    "import pickle"
   ]
  },
  {
   "cell_type": "code",
   "execution_count": 3,
   "id": "573885e9",
   "metadata": {},
   "outputs": [],
   "source": [
    "def load_word_vectors(model_name, word_vectors):\n",
    "    import spacy\n",
    "    import subprocess\n",
    "    import sys\n",
    "    subprocess.run([sys.executable,\n",
    "                    \"-m\",\n",
    "                    \"spacy\",\n",
    "                    \"init\",\n",
    "                    \"vectors\",\n",
    "                    \"en\",\n",
    "                    word_vectors,\n",
    "                    model_name\n",
    "                        ]\n",
    "                    )\n",
    "    print (f\"New spaCy model created with word vectors. File: {model_name}\")"
   ]
  },
  {
   "cell_type": "code",
   "execution_count": 4,
   "id": "a2cfb11d",
   "metadata": {},
   "outputs": [],
   "source": [
    "spacy.require_gpu()\n",
    "#load_word_vectors(\"./models/model-best\", \"trainset/word_vecs.txt\")\n",
    "nlp = spacy.load(\"./models/model-best\")\n",
    "dataframe = pd.read_csv('./dataset/Listing_Titles.tsv', sep='\\t', on_bad_lines='skip', quoting=csv.QUOTE_NONE, encoding='utf8')"
   ]
  },
  {
   "cell_type": "code",
   "execution_count": 5,
   "id": "2bf36df6",
   "metadata": {},
   "outputs": [],
   "source": [
    "listing_titles = [(dataframe[\"Title\"][i], i) for i in range(0, len(dataframe[\"Title\"]))][5000:30000]"
   ]
  },
  {
   "cell_type": "code",
   "execution_count": 6,
   "id": "1acd6fb5",
   "metadata": {},
   "outputs": [],
   "source": [
    "docs = list(nlp.pipe(listing_titles, as_tuples=True, batch_size=10000))"
   ]
  },
  {
   "cell_type": "code",
   "execution_count": 7,
   "id": "4e6c8de4",
   "metadata": {},
   "outputs": [],
   "source": [
    "output = []"
   ]
  },
  {
   "cell_type": "code",
   "execution_count": 8,
   "id": "21e0f829",
   "metadata": {},
   "outputs": [
    {
     "name": "stderr",
     "output_type": "stream",
     "text": [
      "100%|██████████| 25000/25000 [00:00<00:00, 69744.19it/s]\n"
     ]
    }
   ],
   "source": [
    "result = []\n",
    "\n",
    "with tqdm(total = 25000) as pbar:\n",
    "    buffer = \"\"\n",
    "    for doc, i in docs:\n",
    "        for ent in doc.ents:\n",
    "            if(ent.label_ != \"No Tag\" and ent.label_ != \"Obscure\"):\n",
    "                result.append(str(i + 1) + '\\t' + ent.label_ + '\\t' + ent.text)\n",
    "        pbar.update(1)\n",
    "        \n",
    "        \n"
   ]
  },
  {
   "cell_type": "code",
   "execution_count": 9,
   "id": "9726c71f",
   "metadata": {},
   "outputs": [],
   "source": [
    "os.makedirs(\"./output\", exist_ok=True)\n",
    "output = open(\"output/output.tsv\", \"w\", encoding=\"utf-8\")  # write mode\n",
    "output.write('\\n'.join(result))\n",
    "output.close()"
   ]
  },
  {
   "cell_type": "code",
   "execution_count": 20,
   "id": "866d0289",
   "metadata": {},
   "outputs": [],
   "source": [
    "realdocs = [doc for doc, i in docs]\n",
    "doc_bin = DocBin()\n",
    "for doc in realdocs:\n",
    "    doc_bin.add(doc)"
   ]
  },
  {
   "cell_type": "code",
   "execution_count": 22,
   "id": "33100f6f",
   "metadata": {},
   "outputs": [
    {
     "name": "stdout",
     "output_type": "stream",
     "text": [
      "SALE ! Kamen Rider Gaim Belt Set No. 802\n"
     ]
    }
   ],
   "source": [
    "print(realdocs[0])"
   ]
  },
  {
   "cell_type": "code",
   "execution_count": 11,
   "id": "b1684e6b",
   "metadata": {},
   "outputs": [],
   "source": [
    "output = open(\"output/output.spacy\", \"wb\")  # write mode\n",
    "output.write(doc_bin.to_bytes())\n",
    "output.close()"
   ]
  }
 ],
 "metadata": {
  "kernelspec": {
   "display_name": "Python 3.10.4 ('poopy')",
   "language": "python",
   "name": "python3"
  },
  "language_info": {
   "codemirror_mode": {
    "name": "ipython",
    "version": 3
   },
   "file_extension": ".py",
   "mimetype": "text/x-python",
   "name": "python",
   "nbconvert_exporter": "python",
   "pygments_lexer": "ipython3",
   "version": "3.10.4"
  },
  "vscode": {
   "interpreter": {
    "hash": "fafa401562e10296abee49c60845fc6c7bab56f8651426050e4a3d10593a4d2c"
   }
  }
 },
 "nbformat": 4,
 "nbformat_minor": 5
}
