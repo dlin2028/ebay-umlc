{
 "cells": [
  {
   "cell_type": "code",
   "execution_count": 2,
   "id": "6a070cbf",
   "metadata": {},
   "outputs": [],
   "source": [
    "import multiprocessing as mp\n",
    "mp.set_start_method('spawn', force=True)\n",
    "import cupy\n",
    "import spacy\n",
    "import csv\n",
    "import pandas as pd\n",
    "import numpy as np\n",
    "from tqdm import tqdm\n",
    "from spacy.tokens import DocBin\n",
    "from thinc.api import set_gpu_allocator, require_gpu\n",
    "from multiprocessing import Process, freeze_support, set_start_method\n",
    "from joblib import Parallel, delayed\n",
    "from itertools import cycle"
   ]
  },
  {
   "cell_type": "code",
   "execution_count": null,
   "id": "206b8573",
   "metadata": {},
   "outputs": [],
   "source": [
    "rank = 0"
   ]
  },
  {
   "cell_type": "code",
   "execution_count": null,
   "id": "636e34d0",
   "metadata": {},
   "outputs": [],
   "source": []
  },
  {
   "cell_type": "code",
   "execution_count": 4,
   "id": "76bea9f6",
   "metadata": {},
   "outputs": [],
   "source": [
    "def chunker(iterable, total_length, chunksize):\n",
    "    return (iterable[pos: pos + chunksize] for pos in range(0, total_length, chunksize))"
   ]
  },
  {
   "cell_type": "code",
   "execution_count": 5,
   "id": "da513668",
   "metadata": {},
   "outputs": [],
   "source": [
    "def flatten(list_of_lists):\n",
    "    \"Flatten a list of lists to a combined list\"\n",
    "    return [item for sublist in list_of_lists for item in sublist]"
   ]
  },
  {
   "cell_type": "code",
   "execution_count": 6,
   "id": "a19bef1e",
   "metadata": {},
   "outputs": [],
   "source": [
    "def process_chunk(texts):\n",
    "    preproc_pipe = []\n",
    "    for doc in nlp.pipe(texts, batch_size=20):\n",
    "        preproc_pipe.append(lemmatize_pipe(doc))\n",
    "    return preproc_pipe"
   ]
  },
  {
   "cell_type": "code",
   "execution_count": 11,
   "id": "deefdc1d",
   "metadata": {},
   "outputs": [],
   "source": [
    "def preprocess_parallel(texts, chunksize):\n",
    "    executor = Parallel(n_jobs=7, backend='multiprocessing', prefer=\"processes\")\n",
    "    do = delayed(process_chunk)\n",
    "    tasks = (do(chunk) for chunk in chunker(texts, len(texts), chunksize=chunksize))\n",
    "    result = executor(tasks)\n",
    "    return flatten(result)"
   ]
  },
  {
   "cell_type": "code",
   "execution_count": 8,
   "id": "4e96c053",
   "metadata": {},
   "outputs": [],
   "source": [
    "    \n",
    "if __name__ == '__main__':\n",
    "    freeze_support()\n",
    "    spacy.require_gpu()\n",
    "    nlp = spacy.load(\"./output/model-best\")\n",
    "\n",
    "    # for ent in doc.ents:\n",
    "    #     print (ent.text, ent.label_)\n",
    "\n",
    "    listing_titles = pd.read_csv('./dataset/Listing_Titles.tsv', sep='\\t', on_bad_lines='skip', quoting=csv.QUOTE_NONE, encoding='utf8')\n",
    "    listing_titles = [(listing_titles[\"Title\"][i], i) for i in range(0, len(listing_titles[\"Title\"]))]\n",
    "    \n",
    "    output = open(\"output.txt\", \"w\", encoding=\"utf-8\")  # write mode"
   ]
  },
  {
   "cell_type": "code",
   "execution_count": null,
   "id": "4376bc54",
   "metadata": {},
   "outputs": [],
   "source": [
    "    buffer = preprocess_parallel(texts = [\"His friend Nicolas J. Smith is here with Bart Simpon and Fred.\"]*100, chunksize=5000)"
   ]
  },
  {
   "cell_type": "code",
   "execution_count": null,
   "id": "371363cf",
   "metadata": {},
   "outputs": [],
   "source": [
    "    print(preprocess_parallel(texts = [\"His friend Nicolas J. Smith is here with Bart Simpon and Fred.\"]*10, chunksize=5))"
   ]
  },
  {
   "cell_type": "code",
   "execution_count": null,
   "id": "12d802f1",
   "metadata": {},
   "outputs": [],
   "source": []
  },
  {
   "cell_type": "code",
   "execution_count": null,
   "id": "4e6b4029",
   "metadata": {},
   "outputs": [],
   "source": []
  },
  {
   "cell_type": "code",
   "execution_count": null,
   "id": "df647f6a",
   "metadata": {},
   "outputs": [],
   "source": []
  }
 ],
 "metadata": {
  "kernelspec": {
   "display_name": "Python [conda env:poopy]",
   "language": "python",
   "name": "conda-env-poopy-py"
  },
  "language_info": {
   "codemirror_mode": {
    "name": "ipython",
    "version": 3
   },
   "file_extension": ".py",
   "mimetype": "text/x-python",
   "name": "python",
   "nbconvert_exporter": "python",
   "pygments_lexer": "ipython3",
   "version": "3.10.4"
  }
 },
 "nbformat": 4,
 "nbformat_minor": 5
}
